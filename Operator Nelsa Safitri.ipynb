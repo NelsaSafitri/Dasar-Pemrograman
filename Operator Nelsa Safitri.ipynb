{
 "cells": [
  {
   "cell_type": "markdown",
   "id": "cbf1ddf8",
   "metadata": {},
   "source": [
    "Operator Nelsa Safitri"
   ]
  },
  {
   "cell_type": "code",
   "execution_count": 5,
   "id": "55e43200",
   "metadata": {},
   "outputs": [
    {
     "name": "stdout",
     "output_type": "stream",
     "text": [
      "27\n",
      "13\n",
      "140\n",
      "2.857142857142857\n",
      "2\n",
      "1280000000\n",
      "6\n"
     ]
    }
   ],
   "source": [
    "num1 = 20\n",
    "num2 = 7\n",
    "\n",
    "hasil_jumlah = num1 + num2\n",
    "hasil_kurang = num1 - num2\n",
    "hasil_kali = num1 * num2\n",
    "hasil_bagi = num1 / num2\n",
    "hasil_bagi_bulat = num1 // num2\n",
    "hasil_pangkat = num1 ** num2\n",
    "hasil_modulus = num1 % num2\n",
    "\n",
    "print (hasil_jumlah)\n",
    "print (hasil_kurang)\n",
    "print (hasil_kali)\n",
    "print (hasil_bagi)\n",
    "print (hasil_bagi_bulat)\n",
    "print (hasil_pangkat)\n",
    "print (hasil_modulus)\n"
   ]
  },
  {
   "cell_type": "code",
   "execution_count": 7,
   "id": "82f52aaa",
   "metadata": {},
   "outputs": [
    {
     "name": "stdout",
     "output_type": "stream",
     "text": [
      "10\n",
      "15\n",
      "13\n",
      "52\n",
      "7.428571428571429\n",
      "0.0\n",
      "0.0\n"
     ]
    }
   ],
   "source": [
    "x = 10 \n",
    "print(x) #10\n",
    "x += 5 #x = x + 5\n",
    "print(x) #15\n",
    "x -= 2 #x = x - 2 \n",
    "print(x) #13\n",
    "x *= 4 #x = x * 4\n",
    "print(x) #12\n",
    "x /= 7 #x = x / 7\n",
    "print(x) #18\n",
    "x //= 9 #x = x // 9\n",
    "print(x) #19\n",
    "x **= 6 #x = x ** 6\n",
    "print(x) #17\n",
    "x %= 1 #x = x % 1 \n",
    "\n",
    "\n"
   ]
  },
  {
   "cell_type": "markdown",
   "id": "64939ead",
   "metadata": {},
   "source": [
    "Operator Bilangan"
   ]
  },
  {
   "cell_type": "code",
   "execution_count": 11,
   "id": "fbf2cba0",
   "metadata": {},
   "outputs": [
    {
     "name": "stdout",
     "output_type": "stream",
     "text": [
      "False\n",
      "True\n",
      "False\n",
      "True\n",
      "True\n",
      "True\n"
     ]
    }
   ],
   "source": [
    "y = 5\n",
    "z = 6\n",
    "\n",
    "print(y==z) #False\n",
    "print(y!=z) #True\n",
    "print(y>z) #False\n",
    "print(y<z) #True\n",
    "print(y>=5) #True\n",
    "print(z<=6) #True\n",
    "\n"
   ]
  },
  {
   "cell_type": "markdown",
   "id": "cc6fe72c",
   "metadata": {},
   "source": [
    "Operator Logika"
   ]
  },
  {
   "cell_type": "code",
   "execution_count": 14,
   "id": "4db5ddae",
   "metadata": {},
   "outputs": [
    {
     "name": "stdout",
     "output_type": "stream",
     "text": [
      "True\n",
      "False\n",
      "True\n"
     ]
    }
   ],
   "source": [
    "val1 = 10\n",
    "val2 =  5\n",
    "\n",
    "opr_and = val1 > val2 and val1 < 11 #True\n",
    "opr_or = val1 == 9 or val2 >5 #True\n",
    "opr_not = not(opr_and and opr_or) #False\n",
    "\n",
    "print(opr_and)\n",
    "print(opr_or)\n",
    "print(opr_not)\n"
   ]
  },
  {
   "cell_type": "markdown",
   "id": "c74f9857",
   "metadata": {},
   "source": [
    "Operator Identitas"
   ]
  },
  {
   "cell_type": "code",
   "execution_count": 17,
   "id": "232baf9c",
   "metadata": {},
   "outputs": [
    {
     "name": "stdout",
     "output_type": "stream",
     "text": [
      "True\n",
      "False\n",
      "True\n",
      "False\n"
     ]
    }
   ],
   "source": [
    "fruits = [\"apel\",\"semangka\",\"nanas\"]\n",
    "fav_fruits = fruits\n",
    "your_fruits = [\"apel\",\"semangka\",\"nanas\"]\n",
    "name = \"Nelsa\"\n",
    "your_name = \"Nelsa\"\n",
    "\n",
    "print(fav_fruits is fruits)\n",
    "print(fruits is your_fruits)\n",
    "print(name is your_name)\n",
    "print(fav_fruits is not fruits)"
   ]
  },
  {
   "cell_type": "markdown",
   "id": "37ac5b57",
   "metadata": {},
   "source": [
    "Operator Keanggotaan"
   ]
  },
  {
   "cell_type": "code",
   "execution_count": 20,
   "id": "5a20c863",
   "metadata": {},
   "outputs": [
    {
     "name": "stdout",
     "output_type": "stream",
     "text": [
      "True\n",
      "False\n",
      "True\n",
      "False\n",
      "False\n"
     ]
    }
   ],
   "source": [
    "city = [\"jakarta\",\"bandung\",\"sukabumi\"]\n",
    "\n",
    "print(\"jakarta\" in city)\n",
    "print(\"malang\" in city)\n",
    "print(\"bandung\" in city)\n",
    "print(\"sukabumi\" not in city)\n",
    "print(\"jakarta\" in city and \"bandung\" not in city)"
   ]
  },
  {
   "cell_type": "markdown",
   "id": "24e9080f",
   "metadata": {},
   "source": [
    "Operator Bitwise"
   ]
  },
  {
   "cell_type": "code",
   "execution_count": 23,
   "id": "6ba78d0e",
   "metadata": {},
   "outputs": [
    {
     "name": "stdout",
     "output_type": "stream",
     "text": [
      "15\n",
      "255\n",
      "240\n",
      "256\n",
      "32\n"
     ]
    }
   ],
   "source": [
    "nilai1 = 255\n",
    "nilai2 = 15\n",
    "bit_and = nilai1 & nilai2\n",
    "bit_or = nilai1 | nilai2\n",
    "bit_xor = nilai1 ^ nilai2\n",
    "#11111111 =>255\n",
    "#00001111 =>15\n",
    "#-------------- or\n",
    "#00001111 =>15\n",
    "#11111111 =>255\n",
    "#11110000 =>240\n",
    "\n",
    "print(bit_and)\n",
    "print(bit_or)\n",
    "print(bit_xor)\n",
    "\n",
    "# shift left\n",
    "print(128 << 1)\n",
    "# shift right\n",
    "print(128 >> 2)\n",
    "\n"
   ]
  }
 ],
 "metadata": {
  "kernelspec": {
   "display_name": "Python 3 (ipykernel)",
   "language": "python",
   "name": "python3"
  },
  "language_info": {
   "codemirror_mode": {
    "name": "ipython",
    "version": 3
   },
   "file_extension": ".py",
   "mimetype": "text/x-python",
   "name": "python",
   "nbconvert_exporter": "python",
   "pygments_lexer": "ipython3",
   "version": "3.9.12"
  }
 },
 "nbformat": 4,
 "nbformat_minor": 5
}
