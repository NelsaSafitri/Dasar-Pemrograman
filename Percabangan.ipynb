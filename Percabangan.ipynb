{
 "cells": [
  {
   "cell_type": "markdown",
   "id": "cf9c6605-44ff-40c7-bb7d-2fc09f3f67ab",
   "metadata": {},
   "source": [
    "Penerimaan calom programer"
   ]
  },
  {
   "cell_type": "code",
   "execution_count": 3,
   "id": "7d7bd4e2-753f-481e-9737-55d153c1b6b0",
   "metadata": {},
   "outputs": [
    {
     "name": "stdin",
     "output_type": "stream",
     "text": [
      "Insert Nilai :  90\n"
     ]
    },
    {
     "name": "stdout",
     "output_type": "stream",
     "text": [
      "90 = A\n",
      "LOLOS \n",
      "Selamat Kamu Berhasil Menjadi Calon Programmer!\n"
     ]
    }
   ],
   "source": [
    "nilai = int(input(\"Insert Nilai : \"))\n",
    "\n",
    "grade =''\n",
    "\n",
    "if nilai >= 80 and nilai <=100:\n",
    "    if nilai ==80:\n",
    "        print(f\"{nilai} = A\")\n",
    "    if nilai <= 100:\n",
    "        print(f\"{nilai} = A\")\n",
    "        grade = 'LOLOS'\n",
    "elif nilai >= 60 and nilai <=80:\n",
    "    if nilai ==60:\n",
    "        print(f\"{nilai} = B\")\n",
    "    if nilai <= 80:\n",
    "        print(f\"{nilai} = B\")\n",
    "        grade ='DIPERTIMBANGKAN'\n",
    "elif nilai < 60:\n",
    "    print(f\"{nilai} = GAGAL\")\n",
    "\n",
    "if grade !='':\n",
    "    print(f\"{grade} \\nSelamat Kamu Berhasil Menjadi Calon Programmer!\")\n",
    "else:\n",
    "    print(f\"{grade} \\nMaaf Kamu Belum Berhasil Menjadi Calon Programmer\")"
   ]
  },
  {
   "cell_type": "markdown",
   "id": "cece51c2-f59b-41f3-8386-484dac715228",
   "metadata": {},
   "source": [
    "Persegi FC"
   ]
  },
  {
   "cell_type": "code",
   "execution_count": 4,
   "id": "47eb58a0-8233-4e49-a21c-3934746af680",
   "metadata": {},
   "outputs": [
    {
     "ename": "SyntaxError",
     "evalue": "incomplete input (2765411580.py, line 20)",
     "output_type": "error",
     "traceback": [
      "\u001b[1;36m  Cell \u001b[1;32mIn[4], line 20\u001b[1;36m\u001b[0m\n\u001b[1;33m    for p in position:\u001b[0m\n\u001b[1;37m                      ^\u001b[0m\n\u001b[1;31mSyntaxError\u001b[0m\u001b[1;31m:\u001b[0m incomplete input\n"
     ]
    }
   ],
   "source": [
    "number = int(input(\"Insert back number : \"))\n",
    "position = []\n",
    "\n",
    "if number % 2 == 0:\n",
    "    position.append(\"Target Attacker\")\n",
    "elif number % 2 == 0 and 50 <= number <= 100:\n",
    "    position.append(\"Capten Team\")\n",
    "elif number % 2 != 0:\n",
    "    position.append(\"Defender\")\n",
    "elif number % 2 != 0 and number > 90:\n",
    "    position.append(\"Playmaker\")\n",
    "elif number % 2 != 0 and number % 3 == 0 and number % 5 == 0:\n",
    "    position.append(\"Keeper\")\n",
    "\n",
    "# Show Result\n",
    "if len(position) == 0:\n",
    "    print(\"Doesn't fulfill any position.\")\n",
    "else:\n",
    "    print(f\"The back number {number} can serve as a position :\")\n",
    "    for p in position:"
   ]
  }
 ],
 "metadata": {
  "kernelspec": {
   "display_name": "Python 3 (ipykernel)",
   "language": "python",
   "name": "python3"
  },
  "language_info": {
   "codemirror_mode": {
    "name": "ipython",
    "version": 3
   },
   "file_extension": ".py",
   "mimetype": "text/x-python",
   "name": "python",
   "nbconvert_exporter": "python",
   "pygments_lexer": "ipython3",
   "version": "3.11.7"
  }
 },
 "nbformat": 4,
 "nbformat_minor": 5
}
