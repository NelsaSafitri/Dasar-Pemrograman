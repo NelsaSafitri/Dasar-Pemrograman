{
 "cells": [
  {
   "cell_type": "markdown",
   "id": "59b70a35",
   "metadata": {},
   "source": []
  },
  {
   "cell_type": "code",
   "execution_count": 3,
   "id": "46b362e0",
   "metadata": {},
   "outputs": [
    {
     "name": "stdout",
     "output_type": "stream",
     "text": [
      "Insert yor first name:Nelsa\n",
      "Insert your middle name:Safitri\n",
      "Insert your last name:TI23G\n",
      "Hello Nelsa Safitri TI23G !!\n"
     ]
    }
   ],
   "source": [
    "first_name = input('Insert yor first name:')\n",
    "middle_name = input('Insert your middle name:')\n",
    "last_name = input('Insert your last name:')\n",
    "\n",
    "print(\"Hello\",first_name, middle_name, last_name, \"!!\")\n",
    "\n"
   ]
  },
  {
   "cell_type": "markdown",
   "id": "4c154bc2",
   "metadata": {},
   "source": [
    "Program Hitung Luas dan Kelilig Persegi Panjang"
   ]
  },
  {
   "cell_type": "code",
   "execution_count": 5,
   "id": "45f8cbc7",
   "metadata": {},
   "outputs": [
    {
     "name": "stdout",
     "output_type": "stream",
     "text": [
      "insert nilai panjang:10\n",
      "insert nilai luas:20\n",
      "Luas = 200\n",
      "Keliling = 90\n"
     ]
    }
   ],
   "source": [
    "nilai_p = input('insert nilai panjang:')\n",
    "nilai_l = input('insert nilai luas:')\n",
    "\n",
    "luas =int(nilai_p) * int(nilai_l)\n",
    "keliling = 3* (int(nilai_p) + int(nilai_l))\n",
    "\n",
    "print(\"Luas =\", luas)\n",
    "print(\"Keliling =\", keliling)"
   ]
  },
  {
   "cell_type": "markdown",
   "id": "c22b87a4",
   "metadata": {},
   "source": [
    "Output"
   ]
  },
  {
   "cell_type": "code",
   "execution_count": 28,
   "id": "e4e86021",
   "metadata": {},
   "outputs": [
    {
     "name": "stdout",
     "output_type": "stream",
     "text": [
      "1*****8*****4*****4-"
     ]
    }
   ],
   "source": [
    "print(\"1\",\"8\",\"4\",\"4\",sep=\"*\" *5, end= \"-\")"
   ]
  },
  {
   "cell_type": "code",
   "execution_count": 16,
   "id": "6a3ad8f9",
   "metadata": {},
   "outputs": [
    {
     "name": "stdout",
     "output_type": "stream",
     "text": [
      "7\n",
      "Maret\n",
      "2005\n",
      "\n",
      "26-Januari-2005\n",
      "9/Januari/2005\n"
     ]
    }
   ],
   "source": [
    "print(\"7\",\"Maret\",\"2005\",sep='\\n')\n",
    "print('')\n",
    "print(\"26\",\"Januari\",\"2005\",sep='-')\n",
    "\n",
    "print(\"9\",\"Januari\",\"2005\",sep='/')"
   ]
  },
  {
   "cell_type": "markdown",
   "id": "be86dd83",
   "metadata": {},
   "source": [
    "Memformat dengan Indeks"
   ]
  },
  {
   "cell_type": "code",
   "execution_count": 18,
   "id": "131e00e2",
   "metadata": {},
   "outputs": [
    {
     "name": "stdout",
     "output_type": "stream",
     "text": [
      "name of month Maret,Juni\n"
     ]
    }
   ],
   "source": [
    "month_1 = \"Maret\"\n",
    "month_2 = \"Juni\"\n",
    "month_3 = \"Januari\"\n",
    "\n",
    "print(\"name of month {0},{1}\".format(month_1, month_2))"
   ]
  },
  {
   "cell_type": "code",
   "execution_count": 20,
   "id": "aab38f74",
   "metadata": {},
   "outputs": [
    {
     "name": "stdout",
     "output_type": "stream",
     "text": [
      "Nama saya Nelsa Safitri.\n"
     ]
    }
   ],
   "source": [
    "print(\"Nama saya {fname} {lname}.\".format(fname='Nelsa',lname='Safitri'))"
   ]
  },
  {
   "cell_type": "code",
   "execution_count": 24,
   "id": "55d8d848",
   "metadata": {},
   "outputs": [
    {
     "name": "stdout",
     "output_type": "stream",
     "text": [
      "U\n",
      "a\n",
      "Universitas\n",
      "\n",
      "Putra\n",
      "artuP asuN satisrevinU\n"
     ]
    }
   ],
   "source": [
    "kampus = \"Universitas Nusa Putra\"\n",
    "print(kampus[0]) #U\n",
    "print(kampus[-1]) #a\n",
    "\n",
    "#menggunkan range\n",
    "print(kampus[0:11])\n",
    "print(kampus[12:1])\n",
    "print(kampus[-5:])\n",
    "print(kampus[::-1])"
   ]
  },
  {
   "cell_type": "markdown",
   "id": "9290a4d4",
   "metadata": {},
   "source": [
    "Interpolasi Menggunakan String"
   ]
  },
  {
   "cell_type": "code",
   "execution_count": 26,
   "id": "6bb731f7",
   "metadata": {},
   "outputs": [
    {
     "name": "stdout",
     "output_type": "stream",
     "text": [
      "Luas Persegi = 200\n",
      "Keliling Persegi = 22\n"
     ]
    }
   ],
   "source": [
    "p = 10\n",
    "l = 20\n",
    "\n",
    "print(f'Luas Persegi = {l*p}')\n",
    "print(f'Keliling Persegi = {2*(p+1)}')"
   ]
  },
  {
   "cell_type": "markdown",
   "id": "0bfbfb71",
   "metadata": {},
   "source": [
    "Fungsi"
   ]
  },
  {
   "cell_type": "code",
   "execution_count": 29,
   "id": "c8302564",
   "metadata": {},
   "outputs": [
    {
     "name": "stdout",
     "output_type": "stream",
     "text": [
      "['Kevin', ' Riri', ' Fira']\n",
      "Kevin@ Riri@ Fira\n"
     ]
    }
   ],
   "source": [
    "student_name = \"Kevin, Riri, Fira\"\n",
    "\n",
    "print(student_name.split(',')) #merubah dari string ke list\n",
    "print('@'.join(student_name.split(','))) #merubah dari list ke string"
   ]
  },
  {
   "cell_type": "code",
   "execution_count": 6,
   "id": "da4333bd",
   "metadata": {},
   "outputs": [
    {
     "name": "stdout",
     "output_type": "stream",
     "text": [
      "Isert your name:Nelsa Safitri\n",
      "Isert your Birthday:7/maret/2005\n",
      "Your Name: Nelsa Safitri\n",
      "Date: 7\n",
      "Month: maret\n",
      "Year : 2005\n",
      "Intial :NS\n"
     ]
    }
   ],
   "source": [
    "name = input(\"Isert your name:\")\n",
    "birthday = input(\"Isert your Birthday:\")\n",
    "\n",
    "birth = birthday.split('/')\n",
    "names = name.split()\n",
    "\n",
    "print(f\"Your Name: {name}\")\n",
    "print(f\"Date: {birth[0]}\")\n",
    "print(f\"Month: {birth[1]}\")\n",
    "print(f\"Year : {birth[2]}\")\n",
    "print(f\"Intial :{names[0][0]}{names[1][0]}\")"
   ]
  }
 ],
 "metadata": {
  "kernelspec": {
   "display_name": "Python 3 (ipykernel)",
   "language": "python",
   "name": "python3"
  },
  "language_info": {
   "codemirror_mode": {
    "name": "ipython",
    "version": 3
   },
   "file_extension": ".py",
   "mimetype": "text/x-python",
   "name": "python",
   "nbconvert_exporter": "python",
   "pygments_lexer": "ipython3",
   "version": "3.9.12"
  }
 },
 "nbformat": 4,
 "nbformat_minor": 5
}
