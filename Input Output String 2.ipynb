{
 "cells": [
  {
   "cell_type": "markdown",
   "id": "284c1e25-803e-49e9-89a5-84724ee4c09d",
   "metadata": {},
   "source": [
    "Biodata"
   ]
  },
  {
   "cell_type": "code",
   "execution_count": 9,
   "id": "2e837334-9310-4d5d-b2dc-1660643af3a7",
   "metadata": {},
   "outputs": [
    {
     "name": "stdin",
     "output_type": "stream",
     "text": [
      "insert your name :  Nelsa Safitri\n",
      "insert your birthday : 07/maret/2005\n",
      "insert your major : Informatics Engineering\n",
      "insert your campus : Nusa Putra University\n"
     ]
    },
    {
     "name": "stdout",
     "output_type": "stream",
     "text": [
      "Name : Nelsa Safitri\n",
      "Date : 07\n",
      "Month : maret\n",
      "Year : 2005\n",
      "Major : Informatics Engineering\n",
      "Campus :Nusa Putra University\n",
      "Initial :NS\n"
     ]
    }
   ],
   "source": [
    "name = input(\"insert your name : \")\n",
    "birthday = input(\"insert your birthday :\")\n",
    "major = input(\"insert your major :\")\n",
    "campus = input(\"insert your campus :\")\n",
    "\n",
    "birth = birthday.split('/')\n",
    "initial = name.split()\n",
    "\n",
    "print(f\"Name : {name}\")\n",
    "print(f\"Date : {birth[0]}\")\n",
    "print(f\"Month : {birth[1]}\")\n",
    "print(f\"Year : {birth[2]}\")\n",
    "print(f\"Major : {major}\")\n",
    "print(f\"Campus :{campus}\")\n",
    "print(f\"Initial :{initial[0][0]}{initial[1][0]}\")"
   ]
  },
  {
   "cell_type": "code",
   "execution_count": 12,
   "id": "494fd86d-8fd6-4fe3-b654-8b035610aed6",
   "metadata": {},
   "outputs": [
    {
     "name": "stdout",
     "output_type": "stream",
     "text": [
      "Putra Nusa\n",
      "niversitas N sa P tra S kab mi\n",
      "Sukabumi Putra Nusa Universitas\n",
      "UNPS\n",
      "tas  sa Pu bumi\n"
     ]
    }
   ],
   "source": [
    "kampus = \"Universitas Nusa Putra Sukabumi\"\n",
    "inisial = kampus.split()\n",
    "\n",
    "print(kampus[17:-9],kampus[12:-15])\n",
    "print(kampus[1:13],kampus[14:18],kampus[19:24],kampus[-6:-3],kampus[-2:])\n",
    "print(kampus[-8:],kampus[17:-9],kampus[12:-15],kampus[:11])\n",
    "print(f\"{inisial[0][0]}{inisial[1][0]}{inisial[2][0]}{inisial[3][0]}\")\n",
    "print(kampus[8:12],kampus[14:19],kampus[-4:])"
   ]
  }
 ],
 "metadata": {
  "kernelspec": {
   "display_name": "Python 3 (ipykernel)",
   "language": "python",
   "name": "python3"
  },
  "language_info": {
   "codemirror_mode": {
    "name": "ipython",
    "version": 3
   },
   "file_extension": ".py",
   "mimetype": "text/x-python",
   "name": "python",
   "nbconvert_exporter": "python",
   "pygments_lexer": "ipython3",
   "version": "3.11.7"
  }
 },
 "nbformat": 4,
 "nbformat_minor": 5
}
